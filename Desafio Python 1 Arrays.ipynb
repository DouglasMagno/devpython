{
  "nbformat": 4,
  "nbformat_minor": 0,
  "metadata": {
    "colab": {
      "name": "Desafio Python 1.ipynb",
      "provenance": [],
      "collapsed_sections": []
    },
    "kernelspec": {
      "name": "python3",
      "display_name": "Python 3"
    }
  },
  "cells": [
    {
      "cell_type": "code",
      "metadata": {
        "id": "2BLbKeGmjJsI",
        "colab_type": "code",
        "colab": {}
      },
      "source": [
        "# definindo os dados\n",
        "# Levando em conta que sua disposição sempre será reversa de um para o outro\n",
        "ufs =  ['ES', 'MG', 'RJ', 'SP', 'MT']\n",
        "# para testar tratamento de erro\n",
        "# ufs =  ['ES', 'MG', 'RJ', 'SP']\n",
        "estados = ['Mato Grosso', 'São Paulo', 'Rio de Janeiro', 'Minas Gerais', 'Espírito Santo']"
      ],
      "execution_count": 0,
      "outputs": []
    },
    {
      "cell_type": "code",
      "metadata": {
        "id": "DUXm2NtQkJT1",
        "colab_type": "code",
        "colab": {}
      },
      "source": [
        "# criando uma classe para ser uma factory\n",
        "class ListaEstados:\n",
        "    # inserindo dados\n",
        "    def __init__(self, ufs, estados):\n",
        "        self.ufs = ufs\n",
        "        self.estados = estados\n",
        "        self.valid = False\n",
        "\n",
        "    def render(self):\n",
        "      self.validateData()\n",
        "      if (self.valid):\n",
        "        self.associateEstados()\n",
        "\n",
        "    def associateEstados(self):      \n",
        "      for i, uf in enumerate(self.ufs):\n",
        "        print(\"{:s} - {:s}\".format(uf, self.estados[i]))\n",
        "\n",
        "    def validateData(self):\n",
        "      if (len(self.ufs) != len(self.estados)) :\n",
        "        self.valid = False\n",
        "        print(\"Listas devem conter o mesmo número de registros\")\n",
        "      else:\n",
        "        self.valid = True"
      ],
      "execution_count": 0,
      "outputs": []
    },
    {
      "cell_type": "code",
      "metadata": {
        "id": "SdZqshkpsx12",
        "colab_type": "code",
        "colab": {
          "base_uri": "https://localhost:8080/",
          "height": 102
        },
        "outputId": "1ad15b72-19e9-4091-9f1e-298f03ee2c52"
      },
      "source": [
        "lista = ListaEstados(ufs, list(reversed(estados)))\n",
        "lista.render()"
      ],
      "execution_count": 133,
      "outputs": [
        {
          "output_type": "stream",
          "text": [
            "ES - Espírito Santo\n",
            "MG - Minas Gerais\n",
            "RJ - Rio de Janeiro\n",
            "SP - São Paulo\n",
            "MT - Mato Grosso\n"
          ],
          "name": "stdout"
        }
      ]
    }
  ]
}