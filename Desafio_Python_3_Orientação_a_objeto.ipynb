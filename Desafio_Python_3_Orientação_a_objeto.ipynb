{
  "nbformat": 4,
  "nbformat_minor": 0,
  "metadata": {
    "colab": {
      "name": "Desafio Python 3 Orientação a objeto.ipynb",
      "provenance": []
    },
    "kernelspec": {
      "name": "python3",
      "display_name": "Python 3"
    }
  },
  "cells": [
    {
      "cell_type": "code",
      "metadata": {
        "id": "LiLWdejN3NK5",
        "colab_type": "code",
        "outputId": "94f3f969-2b13-4cf7-d926-b4e8d55a9129",
        "colab": {
          "base_uri": "https://localhost:8080/",
          "height": 34
        }
      },
      "source": [
        "# definindo a class\n",
        "class CalculaAttrs:\n",
        "\n",
        "    # calcula o produto dos 3 attrs\n",
        "    def produto(self):\n",
        "      return self.getValor1() * self.getValor2() * self.getValor3()\n",
        "\n",
        "    # seta Valor1\n",
        "    def setValor1(self, valor1):\n",
        "        self.valor1 = valor1\n",
        "    # get valor 1\n",
        "    def getValor1(self):\n",
        "        return self.valor1\n",
        "\n",
        "    # seta Valor2\n",
        "    def setValor2(self, valor2):\n",
        "        self.valor2 = valor2\n",
        "\n",
        "    # get valor 2\n",
        "    def getValor2(self):\n",
        "        return self.valor2     \n",
        "    \n",
        "    # seta Valor3\n",
        "    def setValor3(self, valor3):\n",
        "        self.valor3 = valor3\n",
        "    \n",
        "    # get valor 3\n",
        "    def getValor3(self):\n",
        "        return self.valor3           \n",
        "\n",
        "calcula = CalculaAttrs()\n",
        "calcula.setValor1(2)\n",
        "calcula.setValor2(2)\n",
        "calcula.setValor3(2)\n",
        "calcula.produto()"
      ],
      "execution_count": 0,
      "outputs": [
        {
          "output_type": "execute_result",
          "data": {
            "text/plain": [
              "8"
            ]
          },
          "metadata": {
            "tags": []
          },
          "execution_count": 6
        }
      ]
    }
  ]
}