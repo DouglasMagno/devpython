{
  "nbformat": 4,
  "nbformat_minor": 0,
  "metadata": {
    "colab": {
      "name": "Desafio Python 4.ipynb",
      "provenance": []
    },
    "kernelspec": {
      "name": "python3",
      "display_name": "Python 3"
    }
  },
  "cells": [
    {
      "cell_type": "code",
      "metadata": {
        "id": "_iiGkr4n5gdp",
        "colab_type": "code",
        "colab": {}
      },
      "source": [
        "import sys\n",
        "# vamos só garantir que não vamos bater o limite de resursividade do python nesse server hehe\n",
        "# se quiser conferir o limite atual é só buscar assim:  sys.getrecursionlimit()\n",
        "sys.setrecursionlimit(2000)\n",
        "\n",
        "# vamos pegar uma variação do desafio 2\n",
        "# funcao recebe uma lista de numeros que queremos saber os divisor em comum\n",
        "# também recebe o passo de verificacao que ela está\n",
        "def mult(numeros, soma, step, breaknum):\n",
        "  # variável de controle para saber se o passo (numero atual) é divisível por todos numeros da lista\n",
        "\n",
        "  # verificamos se cada numero é divisível\n",
        "  for n in numeros:\n",
        "    if (step % n == 0):\n",
        "      soma = soma + step\n",
        "\n",
        "  if (step == breaknum):\n",
        "    return soma\n",
        "  else:\n",
        "    soma = mult(numeros, soma, step+1, breaknum)\n",
        "    return soma"
      ],
      "execution_count": 0,
      "outputs": []
    },
    {
      "cell_type": "code",
      "metadata": {
        "id": "cmMq18Mw7FDS",
        "colab_type": "code",
        "colab": {
          "base_uri": "https://localhost:8080/",
          "height": 34
        },
        "outputId": "b54c6db5-3c09-4dea-afd7-32c4cef3a4af"
      },
      "source": [
        "# exemplo do exercicio\n",
        "# testando numeros 3, 5\n",
        "# vamos começar com a soma em 0\n",
        "# no passo 0\n",
        "# até numero 9\n",
        "mult([3,5], 0, 0, 9)"
      ],
      "execution_count": 15,
      "outputs": [
        {
          "output_type": "execute_result",
          "data": {
            "text/plain": [
              "23"
            ]
          },
          "metadata": {
            "tags": []
          },
          "execution_count": 15
        }
      ]
    },
    {
      "cell_type": "code",
      "metadata": {
        "id": "vZu_f1uS7qj8",
        "colab_type": "code",
        "colab": {
          "base_uri": "https://localhost:8080/",
          "height": 34
        },
        "outputId": "37cf41ea-a15c-4c4a-d220-a512d8cfd2a9"
      },
      "source": [
        "# desafio\n",
        "# testando numeros 3, 5\n",
        "# vamos começar com a soma em 0\n",
        "# no passo 0\n",
        "# até numero 999\n",
        "mult([3,5], 0, 0, 999)"
      ],
      "execution_count": 16,
      "outputs": [
        {
          "output_type": "execute_result",
          "data": {
            "text/plain": [
              "266333"
            ]
          },
          "metadata": {
            "tags": []
          },
          "execution_count": 16
        }
      ]
    }
  ]
}