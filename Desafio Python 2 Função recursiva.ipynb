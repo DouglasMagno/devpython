{
  "nbformat": 4,
  "nbformat_minor": 0,
  "metadata": {
    "colab": {
      "name": "Desafio Python 2.ipynb",
      "provenance": []
    },
    "kernelspec": {
      "name": "python3",
      "display_name": "Python 3"
    }
  },
  "cells": [
    {
      "cell_type": "code",
      "metadata": {
        "id": "GkYmeqFEv9_P",
        "colab_type": "code",
        "colab": {}
      },
      "source": [
        "# funcao recebe uma lista de numeros que queremos saber os divisor em comum\n",
        "# também recebe o passo de verificacao que ela está\n",
        "def div(numeros, step=0):\n",
        "  # variável de controle para saber se o passo (numero atual) é divisível por todos numeros da lista\n",
        "  divs = True;\n",
        "  # verificamos se cada numero é divisível\n",
        "  for n in numeros:\n",
        "    if (step % n != 0):\n",
        "      divs = False\n",
        "  # caso ainda falte algum numero divisivel, tentamos o próximo passo\n",
        "  if (divs == False):\n",
        "    step = div(numeros, step+1)\n",
        "    return step\n",
        "  else :\n",
        "    return step"
      ],
      "execution_count": 0,
      "outputs": []
    },
    {
      "cell_type": "code",
      "metadata": {
        "id": "mD9WN2K80dPz",
        "colab_type": "code",
        "colab": {
          "base_uri": "https://localhost:8080/",
          "height": 34
        },
        "outputId": "6afeade4-cab9-4cc1-c6d5-87e1446bb6d0"
      },
      "source": [
        "# no caso se começarmos com passo 0 ele já vai parar, então pra ter graça vamos \n",
        "# colocar 1 só pro cód rodar mais um pouco :D\n",
        "div([2,3,10], 1)"
      ],
      "execution_count": 30,
      "outputs": [
        {
          "output_type": "execute_result",
          "data": {
            "text/plain": [
              "30"
            ]
          },
          "metadata": {
            "tags": []
          },
          "execution_count": 30
        }
      ]
    }
  ]
}